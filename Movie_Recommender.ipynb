{
 "cells": [
  {
   "cell_type": "code",
   "execution_count": 66,
   "metadata": {},
   "outputs": [],
   "source": [
    "# Imports\n",
    "import numpy as np\n",
    "import pandas as pd\n",
    "import ast # String Conversions\n",
    "from sklearn.feature_extraction.text import CountVectorizer # To Create Vectors\n",
    "from nltk.stem.porter import PorterStemmer # Remove Related-Words Problem\n",
    "from sklearn.metrics.pairwise import cosine_similarity # Cosine Distance between Vectors\n",
    "import pickle\n"
   ]
  },
  {
   "cell_type": "code",
   "execution_count": 52,
   "metadata": {},
   "outputs": [],
   "source": [
    "# Creating the Data Frame\n",
    "movies = pd.read_csv('tmdb_5000_movies.csv')\n",
    "credits = pd.read_csv('tmdb_5000_credits.csv')\n",
    "data = movies.merge(credits, on = 'title')"
   ]
  },
  {
   "cell_type": "code",
   "execution_count": 53,
   "metadata": {},
   "outputs": [
    {
     "data": {
      "text/html": [
       "<div>\n",
       "<style scoped>\n",
       "    .dataframe tbody tr th:only-of-type {\n",
       "        vertical-align: middle;\n",
       "    }\n",
       "\n",
       "    .dataframe tbody tr th {\n",
       "        vertical-align: top;\n",
       "    }\n",
       "\n",
       "    .dataframe thead th {\n",
       "        text-align: right;\n",
       "    }\n",
       "</style>\n",
       "<table border=\"1\" class=\"dataframe\">\n",
       "  <thead>\n",
       "    <tr style=\"text-align: right;\">\n",
       "      <th></th>\n",
       "      <th>id</th>\n",
       "      <th>title</th>\n",
       "      <th>overview</th>\n",
       "      <th>keywords</th>\n",
       "      <th>genres</th>\n",
       "      <th>cast</th>\n",
       "      <th>crew</th>\n",
       "    </tr>\n",
       "  </thead>\n",
       "  <tbody>\n",
       "    <tr>\n",
       "      <th>0</th>\n",
       "      <td>19995</td>\n",
       "      <td>Avatar</td>\n",
       "      <td>In the 22nd century, a paraplegic Marine is di...</td>\n",
       "      <td>[{\"id\": 1463, \"name\": \"culture clash\"}, {\"id\":...</td>\n",
       "      <td>[{\"id\": 28, \"name\": \"Action\"}, {\"id\": 12, \"nam...</td>\n",
       "      <td>[{\"cast_id\": 242, \"character\": \"Jake Sully\", \"...</td>\n",
       "      <td>[{\"credit_id\": \"52fe48009251416c750aca23\", \"de...</td>\n",
       "    </tr>\n",
       "    <tr>\n",
       "      <th>1</th>\n",
       "      <td>285</td>\n",
       "      <td>Pirates of the Caribbean: At World's End</td>\n",
       "      <td>Captain Barbossa, long believed to be dead, ha...</td>\n",
       "      <td>[{\"id\": 270, \"name\": \"ocean\"}, {\"id\": 726, \"na...</td>\n",
       "      <td>[{\"id\": 12, \"name\": \"Adventure\"}, {\"id\": 14, \"...</td>\n",
       "      <td>[{\"cast_id\": 4, \"character\": \"Captain Jack Spa...</td>\n",
       "      <td>[{\"credit_id\": \"52fe4232c3a36847f800b579\", \"de...</td>\n",
       "    </tr>\n",
       "    <tr>\n",
       "      <th>2</th>\n",
       "      <td>206647</td>\n",
       "      <td>Spectre</td>\n",
       "      <td>A cryptic message from Bond’s past sends him o...</td>\n",
       "      <td>[{\"id\": 470, \"name\": \"spy\"}, {\"id\": 818, \"name...</td>\n",
       "      <td>[{\"id\": 28, \"name\": \"Action\"}, {\"id\": 12, \"nam...</td>\n",
       "      <td>[{\"cast_id\": 1, \"character\": \"James Bond\", \"cr...</td>\n",
       "      <td>[{\"credit_id\": \"54805967c3a36829b5002c41\", \"de...</td>\n",
       "    </tr>\n",
       "    <tr>\n",
       "      <th>3</th>\n",
       "      <td>49026</td>\n",
       "      <td>The Dark Knight Rises</td>\n",
       "      <td>Following the death of District Attorney Harve...</td>\n",
       "      <td>[{\"id\": 849, \"name\": \"dc comics\"}, {\"id\": 853,...</td>\n",
       "      <td>[{\"id\": 28, \"name\": \"Action\"}, {\"id\": 80, \"nam...</td>\n",
       "      <td>[{\"cast_id\": 2, \"character\": \"Bruce Wayne / Ba...</td>\n",
       "      <td>[{\"credit_id\": \"52fe4781c3a36847f81398c3\", \"de...</td>\n",
       "    </tr>\n",
       "    <tr>\n",
       "      <th>4</th>\n",
       "      <td>49529</td>\n",
       "      <td>John Carter</td>\n",
       "      <td>John Carter is a war-weary, former military ca...</td>\n",
       "      <td>[{\"id\": 818, \"name\": \"based on novel\"}, {\"id\":...</td>\n",
       "      <td>[{\"id\": 28, \"name\": \"Action\"}, {\"id\": 12, \"nam...</td>\n",
       "      <td>[{\"cast_id\": 5, \"character\": \"John Carter\", \"c...</td>\n",
       "      <td>[{\"credit_id\": \"52fe479ac3a36847f813eaa3\", \"de...</td>\n",
       "    </tr>\n",
       "  </tbody>\n",
       "</table>\n",
       "</div>"
      ],
      "text/plain": [
       "       id                                     title  \\\n",
       "0   19995                                    Avatar   \n",
       "1     285  Pirates of the Caribbean: At World's End   \n",
       "2  206647                                   Spectre   \n",
       "3   49026                     The Dark Knight Rises   \n",
       "4   49529                               John Carter   \n",
       "\n",
       "                                            overview  \\\n",
       "0  In the 22nd century, a paraplegic Marine is di...   \n",
       "1  Captain Barbossa, long believed to be dead, ha...   \n",
       "2  A cryptic message from Bond’s past sends him o...   \n",
       "3  Following the death of District Attorney Harve...   \n",
       "4  John Carter is a war-weary, former military ca...   \n",
       "\n",
       "                                            keywords  \\\n",
       "0  [{\"id\": 1463, \"name\": \"culture clash\"}, {\"id\":...   \n",
       "1  [{\"id\": 270, \"name\": \"ocean\"}, {\"id\": 726, \"na...   \n",
       "2  [{\"id\": 470, \"name\": \"spy\"}, {\"id\": 818, \"name...   \n",
       "3  [{\"id\": 849, \"name\": \"dc comics\"}, {\"id\": 853,...   \n",
       "4  [{\"id\": 818, \"name\": \"based on novel\"}, {\"id\":...   \n",
       "\n",
       "                                              genres  \\\n",
       "0  [{\"id\": 28, \"name\": \"Action\"}, {\"id\": 12, \"nam...   \n",
       "1  [{\"id\": 12, \"name\": \"Adventure\"}, {\"id\": 14, \"...   \n",
       "2  [{\"id\": 28, \"name\": \"Action\"}, {\"id\": 12, \"nam...   \n",
       "3  [{\"id\": 28, \"name\": \"Action\"}, {\"id\": 80, \"nam...   \n",
       "4  [{\"id\": 28, \"name\": \"Action\"}, {\"id\": 12, \"nam...   \n",
       "\n",
       "                                                cast  \\\n",
       "0  [{\"cast_id\": 242, \"character\": \"Jake Sully\", \"...   \n",
       "1  [{\"cast_id\": 4, \"character\": \"Captain Jack Spa...   \n",
       "2  [{\"cast_id\": 1, \"character\": \"James Bond\", \"cr...   \n",
       "3  [{\"cast_id\": 2, \"character\": \"Bruce Wayne / Ba...   \n",
       "4  [{\"cast_id\": 5, \"character\": \"John Carter\", \"c...   \n",
       "\n",
       "                                                crew  \n",
       "0  [{\"credit_id\": \"52fe48009251416c750aca23\", \"de...  \n",
       "1  [{\"credit_id\": \"52fe4232c3a36847f800b579\", \"de...  \n",
       "2  [{\"credit_id\": \"54805967c3a36829b5002c41\", \"de...  \n",
       "3  [{\"credit_id\": \"52fe4781c3a36847f81398c3\", \"de...  \n",
       "4  [{\"credit_id\": \"52fe479ac3a36847f813eaa3\", \"de...  "
      ]
     },
     "execution_count": 53,
     "metadata": {},
     "output_type": "execute_result"
    }
   ],
   "source": [
    "# We will be using the Information about Genres, ID, Keywords, Title, Overview, Cast and Crew to build\n",
    "# our recommender system\n",
    "\n",
    "data_final2 = data[['id', 'title', 'overview', 'keywords', 'genres', 'cast', 'crew']]\n",
    "data_final2.head()"
   ]
  },
  {
   "cell_type": "code",
   "execution_count": 54,
   "metadata": {},
   "outputs": [
    {
     "name": "stderr",
     "output_type": "stream",
     "text": [
      "/var/folders/ny/4dg83fs55cn50cnyfc7x4t580000gn/T/ipykernel_8837/3789922230.py:5: SettingWithCopyWarning: \n",
      "A value is trying to be set on a copy of a slice from a DataFrame\n",
      "\n",
      "See the caveats in the documentation: https://pandas.pydata.org/pandas-docs/stable/user_guide/indexing.html#returning-a-view-versus-a-copy\n",
      "  data_final2.dropna(inplace=True)\n"
     ]
    }
   ],
   "source": [
    "# Checking for Missing Data\n",
    "\n",
    "data_final2.isnull().sum()\n",
    "\n",
    "data_final2.dropna(inplace=True)"
   ]
  },
  {
   "cell_type": "code",
   "execution_count": 55,
   "metadata": {},
   "outputs": [
    {
     "data": {
      "text/plain": [
       "0"
      ]
     },
     "execution_count": 55,
     "metadata": {},
     "output_type": "execute_result"
    }
   ],
   "source": [
    "# Checking for Duplicate Data\n",
    "\n",
    "data_final2.duplicated().sum()"
   ]
  },
  {
   "cell_type": "code",
   "execution_count": 56,
   "metadata": {},
   "outputs": [
    {
     "name": "stderr",
     "output_type": "stream",
     "text": [
      "/var/folders/ny/4dg83fs55cn50cnyfc7x4t580000gn/T/ipykernel_8837/546012780.py:10: SettingWithCopyWarning: \n",
      "A value is trying to be set on a copy of a slice from a DataFrame.\n",
      "Try using .loc[row_indexer,col_indexer] = value instead\n",
      "\n",
      "See the caveats in the documentation: https://pandas.pydata.org/pandas-docs/stable/user_guide/indexing.html#returning-a-view-versus-a-copy\n",
      "  data_final2['genres'] = data_final2['genres'].apply(nameExtract)\n",
      "/var/folders/ny/4dg83fs55cn50cnyfc7x4t580000gn/T/ipykernel_8837/546012780.py:12: SettingWithCopyWarning: \n",
      "A value is trying to be set on a copy of a slice from a DataFrame.\n",
      "Try using .loc[row_indexer,col_indexer] = value instead\n",
      "\n",
      "See the caveats in the documentation: https://pandas.pydata.org/pandas-docs/stable/user_guide/indexing.html#returning-a-view-versus-a-copy\n",
      "  data_final2['keywords'] = data_final2['keywords'].apply(nameExtract)\n"
     ]
    }
   ],
   "source": [
    "# Extract Names from the Genres and Keywords\n",
    "def nameExtract(name_dict):\n",
    "    names = []\n",
    "    for name in ast.literal_eval(name_dict):\n",
    "        names.append(name['name'])\n",
    "    return names\n",
    "\n",
    "# Done Once\n",
    "\n",
    "data_final2['genres'] = data_final2['genres'].apply(nameExtract)\n",
    "\n",
    "data_final2['keywords'] = data_final2['keywords'].apply(nameExtract)"
   ]
  },
  {
   "cell_type": "code",
   "execution_count": 57,
   "metadata": {},
   "outputs": [
    {
     "name": "stderr",
     "output_type": "stream",
     "text": [
      "/var/folders/ny/4dg83fs55cn50cnyfc7x4t580000gn/T/ipykernel_8837/3508076142.py:14: SettingWithCopyWarning: \n",
      "A value is trying to be set on a copy of a slice from a DataFrame.\n",
      "Try using .loc[row_indexer,col_indexer] = value instead\n",
      "\n",
      "See the caveats in the documentation: https://pandas.pydata.org/pandas-docs/stable/user_guide/indexing.html#returning-a-view-versus-a-copy\n",
      "  data_final2['cast'] = data_final2['cast'].apply(nameExtract2)\n"
     ]
    }
   ],
   "source": [
    "# Extract Top Actor Names from Cast\n",
    "def nameExtract2(name_dict):\n",
    "    actor_names = []\n",
    "    top5 = 0 # Top 5 Actors of the Movie will be used\n",
    "    for name in ast.literal_eval(name_dict):\n",
    "        actor_names.append(name['name'])\n",
    "        top5 += 1\n",
    "        if (top5 == 5):\n",
    "            break\n",
    "    return actor_names\n",
    "\n",
    "# Done Once\n",
    "\n",
    "data_final2['cast'] = data_final2['cast'].apply(nameExtract2)"
   ]
  },
  {
   "cell_type": "code",
   "execution_count": 58,
   "metadata": {},
   "outputs": [
    {
     "name": "stderr",
     "output_type": "stream",
     "text": [
      "/var/folders/ny/4dg83fs55cn50cnyfc7x4t580000gn/T/ipykernel_8837/529908618.py:13: SettingWithCopyWarning: \n",
      "A value is trying to be set on a copy of a slice from a DataFrame.\n",
      "Try using .loc[row_indexer,col_indexer] = value instead\n",
      "\n",
      "See the caveats in the documentation: https://pandas.pydata.org/pandas-docs/stable/user_guide/indexing.html#returning-a-view-versus-a-copy\n",
      "  data_final2['crew'] = data_final2['crew'].apply(directorName)\n"
     ]
    }
   ],
   "source": [
    "# Extract Director Name from Crew\n",
    "# IDEA - Maybe include the Producers for recommendation as well\n",
    "def directorName(name_dict):\n",
    "    dir_name = []\n",
    "    for name in ast.literal_eval(name_dict):\n",
    "        if name['job'] == 'Director':\n",
    "            dir_name.append(name['name'])\n",
    "            break\n",
    "    return dir_name\n",
    "\n",
    "# Done Once\n",
    "\n",
    "data_final2['crew'] = data_final2['crew'].apply(directorName)"
   ]
  },
  {
   "cell_type": "code",
   "execution_count": 59,
   "metadata": {},
   "outputs": [
    {
     "name": "stderr",
     "output_type": "stream",
     "text": [
      "/var/folders/ny/4dg83fs55cn50cnyfc7x4t580000gn/T/ipykernel_8837/800263397.py:2: SettingWithCopyWarning: \n",
      "A value is trying to be set on a copy of a slice from a DataFrame.\n",
      "Try using .loc[row_indexer,col_indexer] = value instead\n",
      "\n",
      "See the caveats in the documentation: https://pandas.pydata.org/pandas-docs/stable/user_guide/indexing.html#returning-a-view-versus-a-copy\n",
      "  data_final2['overview'] = data_final2['overview'].apply(lambda x: str(x).split())\n",
      "/var/folders/ny/4dg83fs55cn50cnyfc7x4t580000gn/T/ipykernel_8837/800263397.py:6: SettingWithCopyWarning: \n",
      "A value is trying to be set on a copy of a slice from a DataFrame.\n",
      "Try using .loc[row_indexer,col_indexer] = value instead\n",
      "\n",
      "See the caveats in the documentation: https://pandas.pydata.org/pandas-docs/stable/user_guide/indexing.html#returning-a-view-versus-a-copy\n",
      "  data_final2['genres'] = data_final2['genres'].apply(lambda x : [i.replace(\" \",\"\") for i in x])\n",
      "/var/folders/ny/4dg83fs55cn50cnyfc7x4t580000gn/T/ipykernel_8837/800263397.py:8: SettingWithCopyWarning: \n",
      "A value is trying to be set on a copy of a slice from a DataFrame.\n",
      "Try using .loc[row_indexer,col_indexer] = value instead\n",
      "\n",
      "See the caveats in the documentation: https://pandas.pydata.org/pandas-docs/stable/user_guide/indexing.html#returning-a-view-versus-a-copy\n",
      "  data_final2['keywords'] = data_final2['keywords'].apply(lambda x : [i.replace(\" \",\"\") for i in x])\n",
      "/var/folders/ny/4dg83fs55cn50cnyfc7x4t580000gn/T/ipykernel_8837/800263397.py:10: SettingWithCopyWarning: \n",
      "A value is trying to be set on a copy of a slice from a DataFrame.\n",
      "Try using .loc[row_indexer,col_indexer] = value instead\n",
      "\n",
      "See the caveats in the documentation: https://pandas.pydata.org/pandas-docs/stable/user_guide/indexing.html#returning-a-view-versus-a-copy\n",
      "  data_final2['cast'] = data_final2['cast'].apply(lambda x : [i.replace(\" \",\"\") for i in x])\n",
      "/var/folders/ny/4dg83fs55cn50cnyfc7x4t580000gn/T/ipykernel_8837/800263397.py:12: SettingWithCopyWarning: \n",
      "A value is trying to be set on a copy of a slice from a DataFrame.\n",
      "Try using .loc[row_indexer,col_indexer] = value instead\n",
      "\n",
      "See the caveats in the documentation: https://pandas.pydata.org/pandas-docs/stable/user_guide/indexing.html#returning-a-view-versus-a-copy\n",
      "  data_final2['crew'] = data_final2['crew'].apply(lambda x : [i.replace(\" \",\"\") for i in x])\n",
      "/var/folders/ny/4dg83fs55cn50cnyfc7x4t580000gn/T/ipykernel_8837/800263397.py:18: SettingWithCopyWarning: \n",
      "A value is trying to be set on a copy of a slice from a DataFrame.\n",
      "Try using .loc[row_indexer,col_indexer] = value instead\n",
      "\n",
      "See the caveats in the documentation: https://pandas.pydata.org/pandas-docs/stable/user_guide/indexing.html#returning-a-view-versus-a-copy\n",
      "  data_final2['tags'] = data_final2['overview'] + data_final2['genres'] + data_final2['keywords'] + data_final2['cast'] + data_final2['crew']\n",
      "/var/folders/ny/4dg83fs55cn50cnyfc7x4t580000gn/T/ipykernel_8837/800263397.py:24: SettingWithCopyWarning: \n",
      "A value is trying to be set on a copy of a slice from a DataFrame.\n",
      "Try using .loc[row_indexer,col_indexer] = value instead\n",
      "\n",
      "See the caveats in the documentation: https://pandas.pydata.org/pandas-docs/stable/user_guide/indexing.html#returning-a-view-versus-a-copy\n",
      "  data_final['tags'] = data_final['tags'].apply(lambda x: \" \".join(x).lower())\n"
     ]
    },
    {
     "data": {
      "text/plain": [
       "\"captain barbossa, long believed to be dead, has come back to life and is headed to the edge of the earth with will turner and elizabeth swann. but nothing is quite as it seems. adventure fantasy action ocean drugabuse exoticisland eastindiatradingcompany loveofone'slife traitor shipwreck strongwoman ship alliance calypso afterlife fighter pirate swashbuckler aftercreditsstinger johnnydepp orlandobloom keiraknightley stellanskarsgård chowyun-fat goreverbinski\""
      ]
     },
     "execution_count": 59,
     "metadata": {},
     "output_type": "execute_result"
    }
   ],
   "source": [
    "# Done Once\n",
    "data_final2['overview'] = data_final2['overview'].apply(lambda x: str(x).split())\n",
    "\n",
    "#Correct Tokenisation is Important, Space between Words is harmful to the Recommender due to Ambiguity\n",
    "\n",
    "data_final2['genres'] = data_final2['genres'].apply(lambda x : [i.replace(\" \",\"\") for i in x])\n",
    "\n",
    "data_final2['keywords'] = data_final2['keywords'].apply(lambda x : [i.replace(\" \",\"\") for i in x])\n",
    "\n",
    "data_final2['cast'] = data_final2['cast'].apply(lambda x : [i.replace(\" \",\"\") for i in x])\n",
    "\n",
    "data_final2['crew'] = data_final2['crew'].apply(lambda x : [i.replace(\" \",\"\") for i in x])\n",
    "\n",
    "#~~\n",
    "\n",
    "# Making all the Tags \n",
    "\n",
    "data_final2['tags'] = data_final2['overview'] + data_final2['genres'] + data_final2['keywords'] + data_final2['cast'] + data_final2['crew']\n",
    "\n",
    "data_final = data_final2[['id', 'title', 'tags']]\n",
    "\n",
    "# Advisable to have Tokens in Lowercase\n",
    "\n",
    "data_final['tags'] = data_final['tags'].apply(lambda x: \" \".join(x).lower())\n",
    "\n",
    "data_final.head()\n",
    "\n",
    "data_final['tags'][1]\n"
   ]
  },
  {
   "cell_type": "code",
   "execution_count": 60,
   "metadata": {},
   "outputs": [
    {
     "name": "stderr",
     "output_type": "stream",
     "text": [
      "/var/folders/ny/4dg83fs55cn50cnyfc7x4t580000gn/T/ipykernel_8837/3410008315.py:13: SettingWithCopyWarning: \n",
      "A value is trying to be set on a copy of a slice from a DataFrame.\n",
      "Try using .loc[row_indexer,col_indexer] = value instead\n",
      "\n",
      "See the caveats in the documentation: https://pandas.pydata.org/pandas-docs/stable/user_guide/indexing.html#returning-a-view-versus-a-copy\n",
      "  data_final['tags'] = data_final['tags'].apply(stemmer)\n"
     ]
    }
   ],
   "source": [
    "# Stemming the Words\n",
    "\n",
    "ps = PorterStemmer()\n",
    "\n",
    "def stemmer(text):\n",
    "    stemmed_text = []\n",
    "\n",
    "    for word in text.split():\n",
    "        stemmed_text.append(ps.stem(word))\n",
    "\n",
    "    return \" \".join(stemmed_text)\n",
    "\n",
    "data_final['tags'] = data_final['tags'].apply(stemmer)\n"
   ]
  },
  {
   "cell_type": "code",
   "execution_count": 61,
   "metadata": {},
   "outputs": [],
   "source": [
    "# Vectorisation of Movie Tags and Report Nearest Vectors\n",
    "# Using SKLearn Library, implementing the Bag Of Words Strategy - Try out tfidf and word2vec\n",
    "\n",
    "# Max Features, Maybe try plotting it out or something?\n",
    "\n",
    "cv = CountVectorizer(max_features=5000, stop_words='english')"
   ]
  },
  {
   "cell_type": "code",
   "execution_count": 62,
   "metadata": {},
   "outputs": [],
   "source": [
    "word_vectors = cv.fit_transform(data_final['tags']).toarray()"
   ]
  },
  {
   "cell_type": "code",
   "execution_count": 63,
   "metadata": {},
   "outputs": [],
   "source": [
    "similarity = cosine_similarity(word_vectors) # Similarity Matrix"
   ]
  },
  {
   "cell_type": "code",
   "execution_count": 65,
   "metadata": {},
   "outputs": [
    {
     "name": "stdout",
     "output_type": "stream",
     "text": [
      "The Dark Knight\n",
      "Batman\n",
      "Batman\n",
      "The Dark Knight Rises\n",
      "Rockaway\n"
     ]
    }
   ],
   "source": [
    "# Top 5 Movie Recommendations will be given\n",
    "def recommender(movie):\n",
    "    movie_index = data_final[data_final['title'] == movie].index[0]\n",
    "    distances = similarity[movie_index]\n",
    "    movies_list = sorted(list(enumerate(distances)), reverse = True ,key = lambda x: x[1])[1:6]\n",
    "    for movies in movies_list:\n",
    "        print(data_final.iloc[movies[0]].title)\n",
    "\n",
    "recommender('Batman Begins')"
   ]
  },
  {
   "cell_type": "code",
   "execution_count": 67,
   "metadata": {},
   "outputs": [],
   "source": [
    "pickle.dump(data_final, open(\"Movies.pkl\", 'wb')) # Pickle File to store Movie Data; Can do via to_dict as well\n",
    "\n",
    "pickle.dump(similarity, open(\"Similarity.pkl\", 'wb'))"
   ]
  }
 ],
 "metadata": {
  "kernelspec": {
   "display_name": "Python 3",
   "language": "python",
   "name": "python3"
  },
  "language_info": {
   "codemirror_mode": {
    "name": "ipython",
    "version": 3
   },
   "file_extension": ".py",
   "mimetype": "text/x-python",
   "name": "python",
   "nbconvert_exporter": "python",
   "pygments_lexer": "ipython3",
   "version": "3.9.7"
  }
 },
 "nbformat": 4,
 "nbformat_minor": 2
}
